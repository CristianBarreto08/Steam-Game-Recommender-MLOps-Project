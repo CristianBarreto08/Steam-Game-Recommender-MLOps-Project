{
 "cells": [
  {
   "cell_type": "markdown",
   "metadata": {},
   "source": [
    "### **ETL process (Extract, Transform & Load) - Plataforma de videojuegos Stream** \n",
    "#### **DATOS: User_Items**\n",
    "\n",
    "Empezaremos por entender, transfomar y disponibilizar, encontrando problemas en los datos, aplicando tecnicas de limpieza y preprocesamiente. Finalmente, almacenaremos los datos transformatos para futuras exploraciones.  \n",
    "\n",
    "Entenderemos el contexto y la informacion necesaria para nuestro analisis, tratando consistencia a esos datos."
   ]
  },
  {
   "cell_type": "markdown",
   "metadata": {},
   "source": [
    "#### **Importamos las librerias necesarias**"
   ]
  },
  {
   "cell_type": "code",
   "execution_count": 6,
   "metadata": {},
   "outputs": [],
   "source": [
    "import numpy as np # Para trabajar con arrays y matrices\n",
    "\n",
    "\n",
    "import pandas as pd #para el analisis de tablas tabulares\n",
    "from pandas import json_normalize \n",
    "\n",
    "import os # OS module help us interact with the operative sistem\n",
    "\n",
    "# Gdown makes easy to download files from Google Drive with its ID \n",
    "import gdown\n",
    "\n",
    "# Json its a commonly used format for exchange of data\n",
    "import json\n",
    "\n",
    "\n",
    "import warnings\n",
    "warnings.filterwarnings(\"ignore\")\n",
    "\n",
    "import ast"
   ]
  },
  {
   "cell_type": "markdown",
   "metadata": {},
   "source": [
    "### 2º manera de subir el raw: ESTO es para subir desde un gzip raw"
   ]
  },
  {
   "cell_type": "code",
   "execution_count": 7,
   "metadata": {},
   "outputs": [],
   "source": [
    "# import gzip \n",
    "# import ast\n",
    "# import pandas as pd\n",
    "# data = []\n",
    "# try:\n",
    "#     with gzip.open('users_items.json.gz', 'rb') as d:\n",
    "#         for line in d:\n",
    "#             data.append (ast.literal_eval(line.decode('utf-8')))\n",
    "#     Users_Items = pd.DataFrame (data)\n",
    "# finally:\n",
    "#     d.close()"
   ]
  },
  {
   "cell_type": "markdown",
   "metadata": {},
   "source": [
    "## **1. Cargamos el Dataset**\n",
    "Fuente de datos: **australian_user_items.json**\n",
    "\n",
    "Vamos a descargar el archivo de forma local, ya que es necesario cargarlo de una manera especifica, debido a su estructura. \n",
    "\n",
    "Este archivo está disponible en Google Drive con acceso compartido. Puede descargarlo en el siguiente enlace:\n",
    "\n",
    "Datasets: https://drive.google.com/uc?export=download&id=1BzbeJv1878pa2lQMspr5y03dUdIXaYyX\n"
   ]
  },
  {
   "cell_type": "code",
   "execution_count": 8,
   "metadata": {},
   "outputs": [],
   "source": [
    "ruta = 'users_items.json'"
   ]
  },
  {
   "cell_type": "code",
   "execution_count": 9,
   "metadata": {},
   "outputs": [],
   "source": [
    "with open(ruta, 'r', encoding='utf-8') as f:\n",
    "    data = f.readlines()\n",
    "\n",
    "# vamos a convertir las lineas en registros\n",
    "records = [eval(line.strip()) for line in data]\n",
    "\n",
    "# Creamos el DataFrame a partir de los records o registros\n",
    "df_UserItems= pd.DataFrame(records)"
   ]
  },
  {
   "cell_type": "code",
   "execution_count": 10,
   "metadata": {},
   "outputs": [],
   "source": [
    "respaldo = df_UserItems"
   ]
  },
  {
   "cell_type": "markdown",
   "metadata": {},
   "source": [
    "## **2. Explorar y entender el conjunto de datos**"
   ]
  },
  {
   "cell_type": "code",
   "execution_count": 11,
   "metadata": {},
   "outputs": [
    {
     "name": "stdout",
     "output_type": "stream",
     "text": [
      "DataFrame - First & Last Rows:\n"
     ]
    },
    {
     "data": {
      "text/html": [
       "<div>\n",
       "<style scoped>\n",
       "    .dataframe tbody tr th:only-of-type {\n",
       "        vertical-align: middle;\n",
       "    }\n",
       "\n",
       "    .dataframe tbody tr th {\n",
       "        vertical-align: top;\n",
       "    }\n",
       "\n",
       "    .dataframe thead th {\n",
       "        text-align: right;\n",
       "    }\n",
       "</style>\n",
       "<table border=\"1\" class=\"dataframe\">\n",
       "  <thead>\n",
       "    <tr style=\"text-align: right;\">\n",
       "      <th></th>\n",
       "      <th>user_id</th>\n",
       "      <th>items_count</th>\n",
       "      <th>steam_id</th>\n",
       "      <th>user_url</th>\n",
       "      <th>items</th>\n",
       "    </tr>\n",
       "  </thead>\n",
       "  <tbody>\n",
       "    <tr>\n",
       "      <th>0</th>\n",
       "      <td>76561197970982479</td>\n",
       "      <td>277</td>\n",
       "      <td>76561197970982479</td>\n",
       "      <td>http://steamcommunity.com/profiles/76561197970...</td>\n",
       "      <td>[{'item_id': '10', 'item_name': 'Counter-Strik...</td>\n",
       "    </tr>\n",
       "    <tr>\n",
       "      <th>1</th>\n",
       "      <td>js41637</td>\n",
       "      <td>888</td>\n",
       "      <td>76561198035864385</td>\n",
       "      <td>http://steamcommunity.com/id/js41637</td>\n",
       "      <td>[{'item_id': '10', 'item_name': 'Counter-Strik...</td>\n",
       "    </tr>\n",
       "    <tr>\n",
       "      <th>2</th>\n",
       "      <td>evcentric</td>\n",
       "      <td>137</td>\n",
       "      <td>76561198007712555</td>\n",
       "      <td>http://steamcommunity.com/id/evcentric</td>\n",
       "      <td>[{'item_id': '1200', 'item_name': 'Red Orchest...</td>\n",
       "    </tr>\n",
       "    <tr>\n",
       "      <th>3</th>\n",
       "      <td>Riot-Punch</td>\n",
       "      <td>328</td>\n",
       "      <td>76561197963445855</td>\n",
       "      <td>http://steamcommunity.com/id/Riot-Punch</td>\n",
       "      <td>[{'item_id': '10', 'item_name': 'Counter-Strik...</td>\n",
       "    </tr>\n",
       "    <tr>\n",
       "      <th>4</th>\n",
       "      <td>doctr</td>\n",
       "      <td>541</td>\n",
       "      <td>76561198002099482</td>\n",
       "      <td>http://steamcommunity.com/id/doctr</td>\n",
       "      <td>[{'item_id': '300', 'item_name': 'Day of Defea...</td>\n",
       "    </tr>\n",
       "    <tr>\n",
       "      <th>...</th>\n",
       "      <td>...</td>\n",
       "      <td>...</td>\n",
       "      <td>...</td>\n",
       "      <td>...</td>\n",
       "      <td>...</td>\n",
       "    </tr>\n",
       "    <tr>\n",
       "      <th>88305</th>\n",
       "      <td>76561198323066619</td>\n",
       "      <td>22</td>\n",
       "      <td>76561198323066619</td>\n",
       "      <td>http://steamcommunity.com/profiles/76561198323...</td>\n",
       "      <td>[{'item_id': '413850', 'item_name': 'CS:GO Pla...</td>\n",
       "    </tr>\n",
       "    <tr>\n",
       "      <th>88306</th>\n",
       "      <td>76561198326700687</td>\n",
       "      <td>177</td>\n",
       "      <td>76561198326700687</td>\n",
       "      <td>http://steamcommunity.com/profiles/76561198326...</td>\n",
       "      <td>[{'item_id': '11020', 'item_name': 'TrackMania...</td>\n",
       "    </tr>\n",
       "    <tr>\n",
       "      <th>88307</th>\n",
       "      <td>XxLaughingJackClown77xX</td>\n",
       "      <td>0</td>\n",
       "      <td>76561198328759259</td>\n",
       "      <td>http://steamcommunity.com/id/XxLaughingJackClo...</td>\n",
       "      <td>[]</td>\n",
       "    </tr>\n",
       "    <tr>\n",
       "      <th>88308</th>\n",
       "      <td>76561198329548331</td>\n",
       "      <td>7</td>\n",
       "      <td>76561198329548331</td>\n",
       "      <td>http://steamcommunity.com/profiles/76561198329...</td>\n",
       "      <td>[{'item_id': '304930', 'item_name': 'Unturned'...</td>\n",
       "    </tr>\n",
       "    <tr>\n",
       "      <th>88309</th>\n",
       "      <td>edward_tremethick</td>\n",
       "      <td>0</td>\n",
       "      <td>76561198331598578</td>\n",
       "      <td>http://steamcommunity.com/id/edward_tremethick</td>\n",
       "      <td>[]</td>\n",
       "    </tr>\n",
       "  </tbody>\n",
       "</table>\n",
       "<p>88310 rows × 5 columns</p>\n",
       "</div>"
      ],
      "text/plain": [
       "                       user_id  items_count           steam_id  \\\n",
       "0            76561197970982479          277  76561197970982479   \n",
       "1                      js41637          888  76561198035864385   \n",
       "2                    evcentric          137  76561198007712555   \n",
       "3                   Riot-Punch          328  76561197963445855   \n",
       "4                        doctr          541  76561198002099482   \n",
       "...                        ...          ...                ...   \n",
       "88305        76561198323066619           22  76561198323066619   \n",
       "88306        76561198326700687          177  76561198326700687   \n",
       "88307  XxLaughingJackClown77xX            0  76561198328759259   \n",
       "88308        76561198329548331            7  76561198329548331   \n",
       "88309        edward_tremethick            0  76561198331598578   \n",
       "\n",
       "                                                user_url  \\\n",
       "0      http://steamcommunity.com/profiles/76561197970...   \n",
       "1                   http://steamcommunity.com/id/js41637   \n",
       "2                 http://steamcommunity.com/id/evcentric   \n",
       "3                http://steamcommunity.com/id/Riot-Punch   \n",
       "4                     http://steamcommunity.com/id/doctr   \n",
       "...                                                  ...   \n",
       "88305  http://steamcommunity.com/profiles/76561198323...   \n",
       "88306  http://steamcommunity.com/profiles/76561198326...   \n",
       "88307  http://steamcommunity.com/id/XxLaughingJackClo...   \n",
       "88308  http://steamcommunity.com/profiles/76561198329...   \n",
       "88309     http://steamcommunity.com/id/edward_tremethick   \n",
       "\n",
       "                                                   items  \n",
       "0      [{'item_id': '10', 'item_name': 'Counter-Strik...  \n",
       "1      [{'item_id': '10', 'item_name': 'Counter-Strik...  \n",
       "2      [{'item_id': '1200', 'item_name': 'Red Orchest...  \n",
       "3      [{'item_id': '10', 'item_name': 'Counter-Strik...  \n",
       "4      [{'item_id': '300', 'item_name': 'Day of Defea...  \n",
       "...                                                  ...  \n",
       "88305  [{'item_id': '413850', 'item_name': 'CS:GO Pla...  \n",
       "88306  [{'item_id': '11020', 'item_name': 'TrackMania...  \n",
       "88307                                                 []  \n",
       "88308  [{'item_id': '304930', 'item_name': 'Unturned'...  \n",
       "88309                                                 []  \n",
       "\n",
       "[88310 rows x 5 columns]"
      ]
     },
     "execution_count": 11,
     "metadata": {},
     "output_type": "execute_result"
    }
   ],
   "source": [
    "# traemos una vista rapida de la tabla\n",
    "\n",
    "print('DataFrame - First & Last Rows:')\n",
    "df_UserItems"
   ]
  },
  {
   "cell_type": "markdown",
   "metadata": {},
   "source": [
    "### **# Analisis Primario**\n",
    "1. El dataset 'User_items' no muestra datos nulos en ninguna columna.\n",
    "\n",
    "2. El proceso de recoleccion de datos esta estructurado de una manera optimizada ya que no hay ningun valor faltante. \n",
    "\n",
    "3. La columna 'items' tiene una lista anidada\n",
    "\n",
    "4. Se realizara hacer un analisis mas profundo. "
   ]
  },
  {
   "cell_type": "code",
   "execution_count": 12,
   "metadata": {},
   "outputs": [
    {
     "name": "stdout",
     "output_type": "stream",
     "text": [
      "total filas de games_df: 88310\n",
      "total filas de games_df con nulos en todas sus columnas: 0\n"
     ]
    }
   ],
   "source": [
    "# Vamos a conocer cuantas Filas tienen nulos en todas sus columnas\n",
    "\n",
    "print(f'total filas de games_df: {df_UserItems.shape[0]}')\n",
    "print(f'total filas de games_df con nulos en todas sus columnas: {df_UserItems.isnull().all(axis=1).sum()}')\n"
   ]
  },
  {
   "cell_type": "code",
   "execution_count": 13,
   "metadata": {},
   "outputs": [
    {
     "name": "stdout",
     "output_type": "stream",
     "text": [
      "Información general del DataFrame:\n",
      "\n",
      "<class 'pandas.core.frame.DataFrame'>\n",
      "RangeIndex: 88310 entries, 0 to 88309\n",
      "Data columns (total 5 columns):\n",
      " #   Column       Non-Null Count  Dtype \n",
      "---  ------       --------------  ----- \n",
      " 0   user_id      88310 non-null  object\n",
      " 1   items_count  88310 non-null  int64 \n",
      " 2   steam_id     88310 non-null  object\n",
      " 3   user_url     88310 non-null  object\n",
      " 4   items        88310 non-null  object\n",
      "dtypes: int64(1), object(4)\n",
      "memory usage: 3.4+ MB\n"
     ]
    }
   ],
   "source": [
    "# Obtener información general del DataFrame\n",
    "print(\"Información general del DataFrame:\\n\")\n",
    "df_UserItems.info()"
   ]
  },
  {
   "cell_type": "markdown",
   "metadata": {},
   "source": [
    "### **# Insights**\n",
    "1. La columna **'items'** contiene una lista con datos anidados (lista de diccionarios).\n",
    "\n",
    "2. Se va a normalizar la columna. Con esto vamos a obtener una columna por cada clave en ese diccionario, mandentremos la trazabilidad de las columnas **('steam_id', 'items_count', 'user_id' y 'user_url')**\n",
    "   \n",
    "\n"
   ]
  },
  {
   "cell_type": "code",
   "execution_count": 14,
   "metadata": {},
   "outputs": [],
   "source": [
    "# Normalizar la columna 'items'\n",
    "df_UserItems = pd.json_normalize(records, record_path=['items'], meta=['steam_id','items_count','user_id','user_url'] )"
   ]
  },
  {
   "cell_type": "code",
   "execution_count": 15,
   "metadata": {},
   "outputs": [
    {
     "data": {
      "text/html": [
       "<div>\n",
       "<style scoped>\n",
       "    .dataframe tbody tr th:only-of-type {\n",
       "        vertical-align: middle;\n",
       "    }\n",
       "\n",
       "    .dataframe tbody tr th {\n",
       "        vertical-align: top;\n",
       "    }\n",
       "\n",
       "    .dataframe thead th {\n",
       "        text-align: right;\n",
       "    }\n",
       "</style>\n",
       "<table border=\"1\" class=\"dataframe\">\n",
       "  <thead>\n",
       "    <tr style=\"text-align: right;\">\n",
       "      <th></th>\n",
       "      <th>item_id</th>\n",
       "      <th>item_name</th>\n",
       "      <th>playtime_forever</th>\n",
       "      <th>playtime_2weeks</th>\n",
       "      <th>steam_id</th>\n",
       "      <th>items_count</th>\n",
       "      <th>user_id</th>\n",
       "      <th>user_url</th>\n",
       "    </tr>\n",
       "  </thead>\n",
       "  <tbody>\n",
       "    <tr>\n",
       "      <th>0</th>\n",
       "      <td>10</td>\n",
       "      <td>Counter-Strike</td>\n",
       "      <td>6</td>\n",
       "      <td>0</td>\n",
       "      <td>76561197970982479</td>\n",
       "      <td>277</td>\n",
       "      <td>76561197970982479</td>\n",
       "      <td>http://steamcommunity.com/profiles/76561197970...</td>\n",
       "    </tr>\n",
       "    <tr>\n",
       "      <th>1</th>\n",
       "      <td>20</td>\n",
       "      <td>Team Fortress Classic</td>\n",
       "      <td>0</td>\n",
       "      <td>0</td>\n",
       "      <td>76561197970982479</td>\n",
       "      <td>277</td>\n",
       "      <td>76561197970982479</td>\n",
       "      <td>http://steamcommunity.com/profiles/76561197970...</td>\n",
       "    </tr>\n",
       "    <tr>\n",
       "      <th>2</th>\n",
       "      <td>30</td>\n",
       "      <td>Day of Defeat</td>\n",
       "      <td>7</td>\n",
       "      <td>0</td>\n",
       "      <td>76561197970982479</td>\n",
       "      <td>277</td>\n",
       "      <td>76561197970982479</td>\n",
       "      <td>http://steamcommunity.com/profiles/76561197970...</td>\n",
       "    </tr>\n",
       "    <tr>\n",
       "      <th>3</th>\n",
       "      <td>40</td>\n",
       "      <td>Deathmatch Classic</td>\n",
       "      <td>0</td>\n",
       "      <td>0</td>\n",
       "      <td>76561197970982479</td>\n",
       "      <td>277</td>\n",
       "      <td>76561197970982479</td>\n",
       "      <td>http://steamcommunity.com/profiles/76561197970...</td>\n",
       "    </tr>\n",
       "    <tr>\n",
       "      <th>4</th>\n",
       "      <td>50</td>\n",
       "      <td>Half-Life: Opposing Force</td>\n",
       "      <td>0</td>\n",
       "      <td>0</td>\n",
       "      <td>76561197970982479</td>\n",
       "      <td>277</td>\n",
       "      <td>76561197970982479</td>\n",
       "      <td>http://steamcommunity.com/profiles/76561197970...</td>\n",
       "    </tr>\n",
       "    <tr>\n",
       "      <th>...</th>\n",
       "      <td>...</td>\n",
       "      <td>...</td>\n",
       "      <td>...</td>\n",
       "      <td>...</td>\n",
       "      <td>...</td>\n",
       "      <td>...</td>\n",
       "      <td>...</td>\n",
       "      <td>...</td>\n",
       "    </tr>\n",
       "    <tr>\n",
       "      <th>5153204</th>\n",
       "      <td>346330</td>\n",
       "      <td>BrainBread 2</td>\n",
       "      <td>0</td>\n",
       "      <td>0</td>\n",
       "      <td>76561198329548331</td>\n",
       "      <td>7</td>\n",
       "      <td>76561198329548331</td>\n",
       "      <td>http://steamcommunity.com/profiles/76561198329...</td>\n",
       "    </tr>\n",
       "    <tr>\n",
       "      <th>5153205</th>\n",
       "      <td>373330</td>\n",
       "      <td>All Is Dust</td>\n",
       "      <td>0</td>\n",
       "      <td>0</td>\n",
       "      <td>76561198329548331</td>\n",
       "      <td>7</td>\n",
       "      <td>76561198329548331</td>\n",
       "      <td>http://steamcommunity.com/profiles/76561198329...</td>\n",
       "    </tr>\n",
       "    <tr>\n",
       "      <th>5153206</th>\n",
       "      <td>388490</td>\n",
       "      <td>One Way To Die: Steam Edition</td>\n",
       "      <td>3</td>\n",
       "      <td>3</td>\n",
       "      <td>76561198329548331</td>\n",
       "      <td>7</td>\n",
       "      <td>76561198329548331</td>\n",
       "      <td>http://steamcommunity.com/profiles/76561198329...</td>\n",
       "    </tr>\n",
       "    <tr>\n",
       "      <th>5153207</th>\n",
       "      <td>521570</td>\n",
       "      <td>You Have 10 Seconds 2</td>\n",
       "      <td>4</td>\n",
       "      <td>4</td>\n",
       "      <td>76561198329548331</td>\n",
       "      <td>7</td>\n",
       "      <td>76561198329548331</td>\n",
       "      <td>http://steamcommunity.com/profiles/76561198329...</td>\n",
       "    </tr>\n",
       "    <tr>\n",
       "      <th>5153208</th>\n",
       "      <td>519140</td>\n",
       "      <td>Minds Eyes</td>\n",
       "      <td>3</td>\n",
       "      <td>3</td>\n",
       "      <td>76561198329548331</td>\n",
       "      <td>7</td>\n",
       "      <td>76561198329548331</td>\n",
       "      <td>http://steamcommunity.com/profiles/76561198329...</td>\n",
       "    </tr>\n",
       "  </tbody>\n",
       "</table>\n",
       "<p>5153209 rows × 8 columns</p>\n",
       "</div>"
      ],
      "text/plain": [
       "        item_id                      item_name  playtime_forever  \\\n",
       "0            10                 Counter-Strike                 6   \n",
       "1            20          Team Fortress Classic                 0   \n",
       "2            30                  Day of Defeat                 7   \n",
       "3            40             Deathmatch Classic                 0   \n",
       "4            50      Half-Life: Opposing Force                 0   \n",
       "...         ...                            ...               ...   \n",
       "5153204  346330                   BrainBread 2                 0   \n",
       "5153205  373330                    All Is Dust                 0   \n",
       "5153206  388490  One Way To Die: Steam Edition                 3   \n",
       "5153207  521570          You Have 10 Seconds 2                 4   \n",
       "5153208  519140                     Minds Eyes                 3   \n",
       "\n",
       "         playtime_2weeks           steam_id items_count            user_id  \\\n",
       "0                      0  76561197970982479         277  76561197970982479   \n",
       "1                      0  76561197970982479         277  76561197970982479   \n",
       "2                      0  76561197970982479         277  76561197970982479   \n",
       "3                      0  76561197970982479         277  76561197970982479   \n",
       "4                      0  76561197970982479         277  76561197970982479   \n",
       "...                  ...                ...         ...                ...   \n",
       "5153204                0  76561198329548331           7  76561198329548331   \n",
       "5153205                0  76561198329548331           7  76561198329548331   \n",
       "5153206                3  76561198329548331           7  76561198329548331   \n",
       "5153207                4  76561198329548331           7  76561198329548331   \n",
       "5153208                3  76561198329548331           7  76561198329548331   \n",
       "\n",
       "                                                  user_url  \n",
       "0        http://steamcommunity.com/profiles/76561197970...  \n",
       "1        http://steamcommunity.com/profiles/76561197970...  \n",
       "2        http://steamcommunity.com/profiles/76561197970...  \n",
       "3        http://steamcommunity.com/profiles/76561197970...  \n",
       "4        http://steamcommunity.com/profiles/76561197970...  \n",
       "...                                                    ...  \n",
       "5153204  http://steamcommunity.com/profiles/76561198329...  \n",
       "5153205  http://steamcommunity.com/profiles/76561198329...  \n",
       "5153206  http://steamcommunity.com/profiles/76561198329...  \n",
       "5153207  http://steamcommunity.com/profiles/76561198329...  \n",
       "5153208  http://steamcommunity.com/profiles/76561198329...  \n",
       "\n",
       "[5153209 rows x 8 columns]"
      ]
     },
     "execution_count": 15,
     "metadata": {},
     "output_type": "execute_result"
    }
   ],
   "source": [
    "df_UserItems"
   ]
  },
  {
   "cell_type": "code",
   "execution_count": 16,
   "metadata": {},
   "outputs": [
    {
     "data": {
      "text/plain": [
       "(59117, 8)"
      ]
     },
     "execution_count": 16,
     "metadata": {},
     "output_type": "execute_result"
    }
   ],
   "source": [
    "# buscamos los registros duplicados\n",
    "duplicados = df_UserItems[df_UserItems.duplicated(subset=['steam_id','item_id','playtime_forever'])]\n",
    "duplicados.shape"
   ]
  },
  {
   "cell_type": "code",
   "execution_count": 17,
   "metadata": {},
   "outputs": [],
   "source": [
    "#Borramos dulplicados\n",
    "df_UserItems = df_UserItems.drop_duplicates(keep='first')"
   ]
  },
  {
   "cell_type": "code",
   "execution_count": 18,
   "metadata": {},
   "outputs": [],
   "source": [
    "# Convertir la columna 'playtime_forever' de minutos a horas\n",
    "df_UserItems['hours_game'] = df_UserItems['playtime_forever'] / 60\n",
    "\n",
    "# Redondear los valores a dos decimales (opcional)\n",
    "df_UserItems['hours_game'] = df_UserItems['hours_game'].round(2)"
   ]
  },
  {
   "cell_type": "code",
   "execution_count": 19,
   "metadata": {},
   "outputs": [
    {
     "name": "stdout",
     "output_type": "stream",
     "text": [
      "Top 5 valores máximos:\n",
      "         hours_game\n",
      "587715     10712.88\n",
      "2499068    10588.25\n",
      "4075729    10540.87\n",
      "1495340    10223.52\n",
      "1836985    10001.13\n",
      "\n",
      "Top 5 valores mínimos:\n",
      "   hours_game\n",
      "1         0.0\n",
      "3         0.0\n",
      "4         0.0\n",
      "5         0.0\n",
      "6         0.0\n"
     ]
    }
   ],
   "source": [
    "# Obtener los 5 valores máximos\n",
    "top_5_max = df_UserItems.nlargest(5, 'hours_game')\n",
    "\n",
    "# Obtener los 5 valores mínimos\n",
    "top_5_min = df_UserItems.nsmallest(5, 'hours_game')\n",
    "\n",
    "# Mostrar los resultados\n",
    "print(\"Top 5 valores máximos:\")\n",
    "print(top_5_max[['hours_game']])\n",
    "\n",
    "print(\"\\nTop 5 valores mínimos:\")\n",
    "print(top_5_min[['hours_game']])"
   ]
  },
  {
   "cell_type": "code",
   "execution_count": 20,
   "metadata": {},
   "outputs": [
    {
     "name": "stdout",
     "output_type": "stream",
     "text": [
      "Existen 1847730 filas con valor 0 en la columna 'hours_game'.\n"
     ]
    }
   ],
   "source": [
    "# Contar las filas con valor 0 en la columna 'hours_game'\n",
    "filas_con_cero = (df_UserItems['hours_game'] == 0).sum()\n",
    "\n",
    "# Imprimir el resultado\n",
    "print(f\"Existen {filas_con_cero} filas con valor 0 en la columna 'hours_game'.\")"
   ]
  },
  {
   "cell_type": "code",
   "execution_count": 21,
   "metadata": {},
   "outputs": [
    {
     "data": {
      "text/plain": [
       "Index(['item_id', 'user_id', 'hours_game'], dtype='object')"
      ]
     },
     "execution_count": 21,
     "metadata": {},
     "output_type": "execute_result"
    }
   ],
   "source": [
    "# Eliminar las filas con valor 0 en la columna 'hours_game'\n",
    "df_UserItems = df_UserItems[df_UserItems['hours_game'] != 0]\n",
    "\n",
    "#Eliminamos columna no relevantes\n",
    "df_UserItems = df_UserItems.drop(['playtime_2weeks','user_url','items_count','item_name','steam_id','playtime_forever'], axis=1)\n",
    "df_UserItems.columns"
   ]
  },
  {
   "cell_type": "markdown",
   "metadata": {},
   "source": [
    "### **# Insights**\n",
    "1. Se eliminan los registros con valor nulo en esta columna por motivos de optimizacion de consulta.\n",
    "   \n",
    "2. Se encuentran 1'847,730 registros con un valor de 0 en la columna **'hours_game'**.\n",
    "\n",
    "3. Hay columas irrelevantes, que tambien se remueven por motivos de optimizacion de consultas. \n",
    "   \n",
    "\n"
   ]
  },
  {
   "cell_type": "code",
   "execution_count": 22,
   "metadata": {},
   "outputs": [
    {
     "data": {
      "text/html": [
       "<div>\n",
       "<style scoped>\n",
       "    .dataframe tbody tr th:only-of-type {\n",
       "        vertical-align: middle;\n",
       "    }\n",
       "\n",
       "    .dataframe tbody tr th {\n",
       "        vertical-align: top;\n",
       "    }\n",
       "\n",
       "    .dataframe thead th {\n",
       "        text-align: right;\n",
       "    }\n",
       "</style>\n",
       "<table border=\"1\" class=\"dataframe\">\n",
       "  <thead>\n",
       "    <tr style=\"text-align: right;\">\n",
       "      <th></th>\n",
       "      <th>item_id</th>\n",
       "      <th>user_id</th>\n",
       "      <th>hours_game</th>\n",
       "    </tr>\n",
       "  </thead>\n",
       "  <tbody>\n",
       "    <tr>\n",
       "      <th>0</th>\n",
       "      <td>10</td>\n",
       "      <td>76561197970982479</td>\n",
       "      <td>0.10</td>\n",
       "    </tr>\n",
       "    <tr>\n",
       "      <th>2</th>\n",
       "      <td>30</td>\n",
       "      <td>76561197970982479</td>\n",
       "      <td>0.12</td>\n",
       "    </tr>\n",
       "    <tr>\n",
       "      <th>8</th>\n",
       "      <td>300</td>\n",
       "      <td>76561197970982479</td>\n",
       "      <td>78.88</td>\n",
       "    </tr>\n",
       "    <tr>\n",
       "      <th>9</th>\n",
       "      <td>240</td>\n",
       "      <td>76561197970982479</td>\n",
       "      <td>30.88</td>\n",
       "    </tr>\n",
       "    <tr>\n",
       "      <th>10</th>\n",
       "      <td>3830</td>\n",
       "      <td>76561197970982479</td>\n",
       "      <td>5.55</td>\n",
       "    </tr>\n",
       "    <tr>\n",
       "      <th>...</th>\n",
       "      <td>...</td>\n",
       "      <td>...</td>\n",
       "      <td>...</td>\n",
       "    </tr>\n",
       "    <tr>\n",
       "      <th>5153202</th>\n",
       "      <td>304930</td>\n",
       "      <td>76561198329548331</td>\n",
       "      <td>11.28</td>\n",
       "    </tr>\n",
       "    <tr>\n",
       "      <th>5153203</th>\n",
       "      <td>227940</td>\n",
       "      <td>76561198329548331</td>\n",
       "      <td>0.72</td>\n",
       "    </tr>\n",
       "    <tr>\n",
       "      <th>5153206</th>\n",
       "      <td>388490</td>\n",
       "      <td>76561198329548331</td>\n",
       "      <td>0.05</td>\n",
       "    </tr>\n",
       "    <tr>\n",
       "      <th>5153207</th>\n",
       "      <td>521570</td>\n",
       "      <td>76561198329548331</td>\n",
       "      <td>0.07</td>\n",
       "    </tr>\n",
       "    <tr>\n",
       "      <th>5153208</th>\n",
       "      <td>519140</td>\n",
       "      <td>76561198329548331</td>\n",
       "      <td>0.05</td>\n",
       "    </tr>\n",
       "  </tbody>\n",
       "</table>\n",
       "<p>3246375 rows × 3 columns</p>\n",
       "</div>"
      ],
      "text/plain": [
       "        item_id            user_id  hours_game\n",
       "0            10  76561197970982479        0.10\n",
       "2            30  76561197970982479        0.12\n",
       "8           300  76561197970982479       78.88\n",
       "9           240  76561197970982479       30.88\n",
       "10         3830  76561197970982479        5.55\n",
       "...         ...                ...         ...\n",
       "5153202  304930  76561198329548331       11.28\n",
       "5153203  227940  76561198329548331        0.72\n",
       "5153206  388490  76561198329548331        0.05\n",
       "5153207  521570  76561198329548331        0.07\n",
       "5153208  519140  76561198329548331        0.05\n",
       "\n",
       "[3246375 rows x 3 columns]"
      ]
     },
     "execution_count": 22,
     "metadata": {},
     "output_type": "execute_result"
    }
   ],
   "source": [
    "df_UserItems"
   ]
  },
  {
   "cell_type": "code",
   "execution_count": 23,
   "metadata": {},
   "outputs": [
    {
     "name": "stdout",
     "output_type": "stream",
     "text": [
      "<class 'pandas.core.frame.DataFrame'>\n",
      "Index: 3246375 entries, 0 to 5153208\n",
      "Data columns (total 3 columns):\n",
      " #   Column      Dtype  \n",
      "---  ------      -----  \n",
      " 0   item_id     object \n",
      " 1   user_id     object \n",
      " 2   hours_game  float64\n",
      "dtypes: float64(1), object(2)\n",
      "memory usage: 99.1+ MB\n"
     ]
    }
   ],
   "source": [
    "df_UserItems.info()"
   ]
  },
  {
   "cell_type": "markdown",
   "metadata": {},
   "source": [
    "### 4. Guardamos los datos limpios\n",
    "Guardamos estos archivos en los siguientes formatos para disponibilizarlos. CSV/ Json/ Parquet"
   ]
  },
  {
   "cell_type": "code",
   "execution_count": 25,
   "metadata": {},
   "outputs": [],
   "source": [
    "# Los archivos se almacenan en local \n",
    "# df_UserItems.to_csv('user_items_limpios.csv', index=False)\n",
    "# df_UserItems.to_json('user_items_limpios.json', orient='records', lines=True)\n",
    "df_UserItems.to_parquet('../Data_Files/DF_limpios/2_user_items_limpios.parquet', index=False)"
   ]
  }
 ],
 "metadata": {
  "kernelspec": {
   "display_name": "Python 3",
   "language": "python",
   "name": "python3"
  },
  "language_info": {
   "codemirror_mode": {
    "name": "ipython",
    "version": 3
   },
   "file_extension": ".py",
   "mimetype": "text/x-python",
   "name": "python",
   "nbconvert_exporter": "python",
   "pygments_lexer": "ipython3",
   "version": "3.12.2"
  }
 },
 "nbformat": 4,
 "nbformat_minor": 2
}
