{
 "cells": [
  {
   "cell_type": "markdown",
   "metadata": {},
   "source": [
    "## **Funciones para los Endpoints de API**\n",
    "\n",
    "    1. Crearemos las funciones a partir de los datasets personalizados que creamos en el archivo 'Queries'\n",
    "\n",
    "    2. Estas funciones seran utilizadas por nuestra API para dar respuesta a queries de nuestros endpoints y modelos de machine learning\n",
    "\n",
    "    3. Los datasets que creamos para estas funcionesestan en el archivo 'Queries' con el objetivo de optimizar los tiempos de ejecucion y la utilizacion de recursos computacionales. \n",
    "\n",
    "\n",
    "### **Importamos las librerias** "
   ]
  },
  {
   "cell_type": "code",
   "execution_count": 60,
   "metadata": {},
   "outputs": [],
   "source": [
    "import pandas as pd\n",
    "import os\n",
    "import numpy as np"
   ]
  },
  {
   "cell_type": "markdown",
   "metadata": {},
   "source": [
    "## **Endpoint 1**\n",
    "\n",
    "#### **def PlayTimeGenre( genero : str ):** Debe devolver año con mas horas jugadas para dicho género.\n",
    "\n",
    "Ejemplo de retorno: {\"Año de lanzamiento con más horas jugadas para Género X\" : 2013}\n",
    "\n",
    "Input: **PlayTimeGenre.csv**"
   ]
  },
  {
   "cell_type": "code",
   "execution_count": 21,
   "metadata": {},
   "outputs": [],
   "source": [
    "def PlayTimeGenre(genero: str):\n",
    "    result_df = pd.read_parquet('../Dataframes/Api_files/PlayTimeGenre.parquet')\n",
    "\n",
    "    # Filtrar el DataFrame para el género específico\n",
    "    filtered_df = result_df[result_df['genres'] == genero]\n",
    "    \n",
    "    # Agrupar por año de lanzamiento y sumar las horas jugadas\n",
    "    grouped_df = filtered_df.groupby('year')['hours_game'].sum()\n",
    "    \n",
    "    # Encontrar el año con más horas jugadas\n",
    "    max_hours_year = grouped_df.idxmax()\n",
    "\n",
    "    # Construye el response_data\n",
    "    response_data = {\"Año de lanzamiento con más horas jugadas para {}: {}\".format(genero, max_hours_year)}\n",
    "\n",
    "    # Muestra el resultado\n",
    "    return response_data\n",
    "\n",
    "    "
   ]
  },
  {
   "cell_type": "code",
   "execution_count": 25,
   "metadata": {},
   "outputs": [
    {
     "data": {
      "text/plain": [
       "{'Año de lanzamiento con más horas jugadas para Action: 2012'}"
      ]
     },
     "execution_count": 25,
     "metadata": {},
     "output_type": "execute_result"
    }
   ],
   "source": [
    "PlayTimeGenre('Action')"
   ]
  },
  {
   "cell_type": "markdown",
   "metadata": {},
   "source": [
    "## **Endpoint 2**\n",
    "\n",
    "#### **def UserForGenre( genero : str ):** Debe devolver el usuario que acumula más horas jugadas para el género dado y una lista de la acumulación de horas jugadas por año.\n",
    "\n",
    "Ejemplo de retorno: {\"Usuario con más horas jugadas para Género X\" : us213ndjss09sdf, \"Horas jugadas\":[{Año: 2013, Horas: 203}, {Año: 2012, Horas: 100}, {Año: 2011, Horas: 23}]}\n",
    "\n",
    "Input: **UserForGenre.csv**"
   ]
  },
  {
   "cell_type": "code",
   "execution_count": 19,
   "metadata": {},
   "outputs": [],
   "source": [
    "def UserForGenre(genero:str):\n",
    "    consulta2 = pd.read_parquet('../Dataframes/Api_files/UserForGenre.parquet')\n",
    "    \n",
    "    # Filtrar el DataFrame por el género dado\n",
    "    genre_data = consulta2[consulta2['genres'] == genero]\n",
    "\n",
    "    # Encontrar al usuario con más horas jugadas para ese género\n",
    "    top_user = genre_data.loc[genre_data['hours_game'].idxmax()]['user_id']\n",
    "\n",
    "    # Crear una lista de acumulación de horas jugadas por año\n",
    "    hours_by_year = genre_data.groupby('year')['hours_game'].sum().reset_index()\n",
    "  \n",
    "    hours_by_year = hours_by_year.rename(columns={'year': 'Año', 'hours_game': 'Horas'})\n",
    "    \n",
    "    hours_list = hours_by_year.to_dict(orient='records')\n",
    "\n",
    "    # Crear el diccionario de retorno\n",
    "    result = {\n",
    "        \"Usuario con más horas jugadas para Género {}\".format(genero): top_user,\n",
    "        \"Horas jugadas\": hours_list\n",
    "    }\n",
    "\n",
    "    return result"
   ]
  },
  {
   "cell_type": "code",
   "execution_count": 20,
   "metadata": {},
   "outputs": [
    {
     "data": {
      "text/plain": [
       "{'Usuario con más horas jugadas para Género Action': 'Evilutional',\n",
       " 'Horas jugadas': [{'Año': 1983, 'Horas': 5},\n",
       "  {'Año': 1984, 'Horas': 1},\n",
       "  {'Año': 1988, 'Horas': 11},\n",
       "  {'Año': 1989, 'Horas': 8},\n",
       "  {'Año': 1990, 'Horas': 23},\n",
       "  {'Año': 1991, 'Horas': 12},\n",
       "  {'Año': 1992, 'Horas': 10},\n",
       "  {'Año': 1993, 'Horas': 30},\n",
       "  {'Año': 1994, 'Horas': 92},\n",
       "  {'Año': 1995, 'Horas': 169},\n",
       "  {'Año': 1996, 'Horas': 124},\n",
       "  {'Año': 1997, 'Horas': 111},\n",
       "  {'Año': 1998, 'Horas': 1281},\n",
       "  {'Año': 1999, 'Horas': 2357},\n",
       "  {'Año': 2000, 'Horas': 5936},\n",
       "  {'Año': 2001, 'Horas': 1232},\n",
       "  {'Año': 2002, 'Horas': 211},\n",
       "  {'Año': 2003, 'Horas': 8848},\n",
       "  {'Año': 2004, 'Horas': 8229},\n",
       "  {'Año': 2005, 'Horas': 1346},\n",
       "  {'Año': 2006, 'Horas': 3908},\n",
       "  {'Año': 2007, 'Horas': 1818},\n",
       "  {'Año': 2008, 'Horas': 3163},\n",
       "  {'Año': 2009, 'Horas': 6114},\n",
       "  {'Año': 2010, 'Horas': 5209},\n",
       "  {'Año': 2011, 'Horas': 6808},\n",
       "  {'Año': 2012, 'Horas': 10588},\n",
       "  {'Año': 2013, 'Horas': 6778},\n",
       "  {'Año': 2014, 'Horas': 4275},\n",
       "  {'Año': 2015, 'Horas': 4518},\n",
       "  {'Año': 2016, 'Horas': 2253},\n",
       "  {'Año': 2017, 'Horas': 3534},\n",
       "  {'Año': 2018, 'Horas': 5}]}"
      ]
     },
     "execution_count": 20,
     "metadata": {},
     "output_type": "execute_result"
    }
   ],
   "source": [
    "UserForGenre('Action')"
   ]
  },
  {
   "cell_type": "markdown",
   "metadata": {},
   "source": [
    "## **Endpoint 3**\n",
    "\n",
    "#### **def UsersRecommend( año : int )**: Devuelve el top 3 de juegos MÁS recomendados por usuarios para el año dado. (reviews.recommend = True y comentarios positivos/neutrales)\n",
    "\n",
    "Ejemplo de retorno: [{\"Puesto 1\" : X}, {\"Puesto 2\" : Y},{\"Puesto 3\" : Z}]\n",
    "\n",
    "Input: **UsersRecommend.csv**"
   ]
  },
  {
   "cell_type": "code",
   "execution_count": 6,
   "metadata": {},
   "outputs": [],
   "source": [
    "def UsersRecommend(year: int):\n",
    "    df = pd.read_parquet('../Dataframes/Api_files/UsersRecommend.parquet')\n",
    "    \n",
    "    # Filtrar el DataFrame por el año especificado\n",
    "    result_df = df[df['year'] == year]\n",
    "\n",
    "    response_data = [{\"Puesto 1 recomendados\": result_df.iloc[0]['name']},\n",
    "                     {\"Puesto 2 recomendados\": result_df.iloc[1]['name']},\n",
    "                     {\"Puesto 3 recomendados\": result_df.iloc[2]['name']}]\n",
    "\n",
    "    return response_data"
   ]
  },
  {
   "cell_type": "code",
   "execution_count": 7,
   "metadata": {},
   "outputs": [
    {
     "data": {
      "text/plain": [
       "[{'Puesto 1 recomendados': 'Counter-Strike: Global Offensive'},\n",
       " {'Puesto 2 recomendados': 'Team Fortress 2'},\n",
       " {'Puesto 3 recomendados': \"Garry's Mod\"}]"
      ]
     },
     "execution_count": 7,
     "metadata": {},
     "output_type": "execute_result"
    }
   ],
   "source": [
    "UsersRecommend(2015)"
   ]
  },
  {
   "cell_type": "markdown",
   "metadata": {},
   "source": [
    "## **Endpoint 4**\n",
    "\n",
    "#### def **UsersNotRecommend( año : int )**: Devuelve el top 3 de juegos MENOS recomendados por usuarios para el año dado. (reviews.recommend = False y comentarios negativos)\n",
    "\n",
    "Ejemplo de retorno: [{\"Puesto 1\" : X}, {\"Puesto 2\" : Y},{\"Puesto 3\" : Z}]\n",
    "\n",
    "Input: **UsersWorstDeveloper.csv**"
   ]
  },
  {
   "cell_type": "code",
   "execution_count": 8,
   "metadata": {},
   "outputs": [],
   "source": [
    "def UsersNotRecommend(year: int):\n",
    "    df = pd.read_parquet('../Dataframes/Api_files/UsersNotRecommend.parquet')\n",
    "\n",
    "    # Filtrar el DataFrame por el año especificado\n",
    "    result_df = df[df['year'] == year]\n",
    "\n",
    "    response_data = [{\"Puesto 1 Menos recomendado\": result_df.iloc[0]['name']},\n",
    "                     {\"Puesto 2 Menos recomendado\": result_df.iloc[1]['name']},\n",
    "                     {\"Puesto 3 Menos recomendado\": result_df.iloc[2]['name']}]\n",
    "\n",
    "    return response_data\n",
    "\n"
   ]
  },
  {
   "cell_type": "code",
   "execution_count": 9,
   "metadata": {},
   "outputs": [
    {
     "data": {
      "text/plain": [
       "[{'Puesto 1 Menos recomendado': 'Counter-Strike: Global Offensive'},\n",
       " {'Puesto 2 Menos recomendado': 'Team Fortress 2'},\n",
       " {'Puesto 3 Menos recomendado': 'DayZ'}]"
      ]
     },
     "execution_count": 9,
     "metadata": {},
     "output_type": "execute_result"
    }
   ],
   "source": [
    "UsersNotRecommend(2014)"
   ]
  },
  {
   "cell_type": "markdown",
   "metadata": {},
   "source": [
    "## **Endpoint 5**\n",
    "\n",
    "#### **def sentiment_analysis( año : int ):**:  Según el año de lanzamiento, se devuelve una lista con la cantidad de registros de reseñas de usuarios que se encuentren categorizados con un análisis de sentimiento.\n",
    "\n",
    "Ejemplo de retorno: {Negative = 182, Neutral = 120, Positive = 278}\n",
    "\n",
    "Input: **sentiment_analysis.csv**"
   ]
  },
  {
   "cell_type": "code",
   "execution_count": 50,
   "metadata": {},
   "outputs": [],
   "source": [
    "\n",
    "def sentiment_analysis(year_released: int):\n",
    "    df = pd.read_parquet('../Dataframes/Api_files/sentiment_analysis.parquet')\n",
    "\n",
    "    # Filtrar por el año de release\n",
    "    result_df = df[df['year_released'] == year_released]\n",
    "\n",
    "    # Convertir las columnas que contienen numpy.int64 a tipos de Python nativos\n",
    "    result_df['year_released'] = result_df['year_released'].astype(int)\n",
    "    result_df['Negative'] = result_df['Negative'].astype(int)\n",
    "    result_df['Neutral'] = result_df['Neutral'].astype(int)\n",
    "    result_df['Positive'] = result_df['Positive'].astype(int)\n",
    "    \n",
    "    # Convertir a formato de diccionario\n",
    "    response_data = result_df.set_index('year_released').to_dict(orient='index')\n",
    "    \n",
    "    return response_data\n"
   ]
  },
  {
   "cell_type": "code",
   "execution_count": 51,
   "metadata": {},
   "outputs": [
    {
     "name": "stderr",
     "output_type": "stream",
     "text": [
      "/var/folders/jx/mgrpvh4n2f3b1l736sh02rpw0000gn/T/ipykernel_21430/1794004650.py:8: SettingWithCopyWarning: \n",
      "A value is trying to be set on a copy of a slice from a DataFrame.\n",
      "Try using .loc[row_indexer,col_indexer] = value instead\n",
      "\n",
      "See the caveats in the documentation: https://pandas.pydata.org/pandas-docs/stable/user_guide/indexing.html#returning-a-view-versus-a-copy\n",
      "  result_df['year_released'] = result_df['year_released'].astype(int)\n",
      "/var/folders/jx/mgrpvh4n2f3b1l736sh02rpw0000gn/T/ipykernel_21430/1794004650.py:9: SettingWithCopyWarning: \n",
      "A value is trying to be set on a copy of a slice from a DataFrame.\n",
      "Try using .loc[row_indexer,col_indexer] = value instead\n",
      "\n",
      "See the caveats in the documentation: https://pandas.pydata.org/pandas-docs/stable/user_guide/indexing.html#returning-a-view-versus-a-copy\n",
      "  result_df['Negative'] = result_df['Negative'].astype(int)\n",
      "/var/folders/jx/mgrpvh4n2f3b1l736sh02rpw0000gn/T/ipykernel_21430/1794004650.py:10: SettingWithCopyWarning: \n",
      "A value is trying to be set on a copy of a slice from a DataFrame.\n",
      "Try using .loc[row_indexer,col_indexer] = value instead\n",
      "\n",
      "See the caveats in the documentation: https://pandas.pydata.org/pandas-docs/stable/user_guide/indexing.html#returning-a-view-versus-a-copy\n",
      "  result_df['Neutral'] = result_df['Neutral'].astype(int)\n",
      "/var/folders/jx/mgrpvh4n2f3b1l736sh02rpw0000gn/T/ipykernel_21430/1794004650.py:11: SettingWithCopyWarning: \n",
      "A value is trying to be set on a copy of a slice from a DataFrame.\n",
      "Try using .loc[row_indexer,col_indexer] = value instead\n",
      "\n",
      "See the caveats in the documentation: https://pandas.pydata.org/pandas-docs/stable/user_guide/indexing.html#returning-a-view-versus-a-copy\n",
      "  result_df['Positive'] = result_df['Positive'].astype(int)\n"
     ]
    },
    {
     "data": {
      "text/plain": [
       "{2015: {'Negative': 1100, 'Neutral': 572, 'Positive': 3549}}"
      ]
     },
     "execution_count": 51,
     "metadata": {},
     "output_type": "execute_result"
    }
   ],
   "source": [
    "sentiment_analysis(2015)"
   ]
  },
  {
   "cell_type": "markdown",
   "metadata": {},
   "source": [
    "## **ML model - sistema de recomendación item-item**\n",
    "\n",
    "#### **def recomendacion_juego( id de producto ):** Ingresando el id de producto, deberíamos recibir una lista con 5 juegos recomendados similares al ingresado.\n"
   ]
  },
  {
   "cell_type": "code",
   "execution_count": 55,
   "metadata": {},
   "outputs": [],
   "source": [
    "def recomendacion_usuario(item_id):\n",
    "    df = pd.read_parquet('../Dataframes/ML_files/ItemItem_recomenda.parquet')\n",
    "    \n",
    "    # Filtrar el DataFrame por el año especificado\n",
    "    result_df = df[df['item_id'] == item_id]\n",
    "    \n",
    "    response_data = result_df['Recomendaciones'].tolist()  # Convertir la serie a una lista\n",
    "    \n",
    "    return response_data"
   ]
  },
  {
   "cell_type": "code",
   "execution_count": 56,
   "metadata": {},
   "outputs": [
    {
     "data": {
      "text/plain": [
       "[array(['弹炸人2222', 'Uncanny Islands', 'Beach Rules',\n",
       "        'Planetarium 2 - Zen Odyssey', 'The Warrior Of Treasures'],\n",
       "       dtype=object)]"
      ]
     },
     "execution_count": 56,
     "metadata": {},
     "output_type": "execute_result"
    }
   ],
   "source": [
    "recomendacion_usuario(761140)"
   ]
  },
  {
   "cell_type": "markdown",
   "metadata": {},
   "source": [
    "2a opcion"
   ]
  },
  {
   "cell_type": "code",
   "execution_count": 61,
   "metadata": {},
   "outputs": [],
   "source": [
    "def recomendacion_usuario(item_id):\n",
    "    df = pd.read_parquet('../Dataframes/ML_files/ItemItem_recomenda.parquet')\n",
    "    \n",
    "    # Filtrar el DataFrame por el item_id especificado\n",
    "    result_df = df[df['item_id'] == item_id]\n",
    "    \n",
    "    # Convertir cualquier ndarray en la lista\n",
    "    result_df['Recomendaciones'] = result_df['Recomendaciones'].apply(lambda x: x.tolist() if isinstance(x, np.ndarray) else x)\n",
    "    \n",
    "    response_data = result_df['Recomendaciones'].tolist()  # Convertir la serie a una lista\n",
    "    \n",
    "    return response_data\n"
   ]
  },
  {
   "cell_type": "code",
   "execution_count": 62,
   "metadata": {},
   "outputs": [
    {
     "name": "stderr",
     "output_type": "stream",
     "text": [
      "/var/folders/jx/mgrpvh4n2f3b1l736sh02rpw0000gn/T/ipykernel_21430/1402957408.py:8: SettingWithCopyWarning: \n",
      "A value is trying to be set on a copy of a slice from a DataFrame.\n",
      "Try using .loc[row_indexer,col_indexer] = value instead\n",
      "\n",
      "See the caveats in the documentation: https://pandas.pydata.org/pandas-docs/stable/user_guide/indexing.html#returning-a-view-versus-a-copy\n",
      "  result_df['Recomendaciones'] = result_df['Recomendaciones'].apply(lambda x: x.tolist() if isinstance(x, np.ndarray) else x)\n"
     ]
    },
    {
     "data": {
      "text/plain": [
       "[['弹炸人2222',\n",
       "  'Uncanny Islands',\n",
       "  'Beach Rules',\n",
       "  'Planetarium 2 - Zen Odyssey',\n",
       "  'The Warrior Of Treasures']]"
      ]
     },
     "execution_count": 62,
     "metadata": {},
     "output_type": "execute_result"
    }
   ],
   "source": [
    "recomendacion_usuario(761140)"
   ]
  }
 ],
 "metadata": {
  "kernelspec": {
   "display_name": "Python 3",
   "language": "python",
   "name": "python3"
  },
  "language_info": {
   "codemirror_mode": {
    "name": "ipython",
    "version": 3
   },
   "file_extension": ".py",
   "mimetype": "text/x-python",
   "name": "python",
   "nbconvert_exporter": "python",
   "pygments_lexer": "ipython3",
   "version": "3.12.2"
  }
 },
 "nbformat": 4,
 "nbformat_minor": 2
}
